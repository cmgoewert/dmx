{
 "cells": [
  {
   "cell_type": "code",
   "execution_count": 1,
   "id": "420158e6",
   "metadata": {
    "scrolled": true
   },
   "outputs": [
    {
     "name": "stdout",
     "output_type": "stream",
     "text": [
      "COM3\n",
      "  name: COM3\n",
      "  description: USB Serial Port (COM3)\n",
      "  hwid: USB VID:PID=0403:6001 SER=EN394342A\n",
      "  vid: 1027\n",
      "  pid: 24577\n",
      "  serial_number: EN394342A\n",
      "  location: None\n",
      "  manufacturer: FTDI\n",
      "  product: None\n",
      "  interface: None\n",
      "\n"
     ]
    }
   ],
   "source": [
    "!python -m DMXEnttecPro.utils"
   ]
  },
  {
   "cell_type": "code",
   "execution_count": 2,
   "id": "e122a667",
   "metadata": {
    "scrolled": true
   },
   "outputs": [],
   "source": [
    "from fixtures import *\n",
    "import ipywidgets as widgets\n",
    "from IPython.display import display\n",
    "from DMXEnttecPro import Controller"
   ]
  },
  {
   "cell_type": "code",
   "execution_count": 3,
   "id": "7472f4cf",
   "metadata": {
    "scrolled": true
   },
   "outputs": [],
   "source": [
    "par_lights = Fixture (\n",
    "    name=\"par\",\n",
    "    channel_count=7,\n",
    "    channels=[\n",
    "        Channel(1, 255, \"brightness\", \"\"),\n",
    "        Channel(2, 0, \"red\", \"\"),\n",
    "        Channel(3, 0, \"green\", \"\"),\n",
    "        Channel(4, 0, \"blue\", \"\"),\n",
    "        Channel(5, 0, \"rgb\", \"\"),\n",
    "        Channel(6, 0, \"strobe\", \"\"),\n",
    "        Channel(7, 0, \"mode\", \"\")\n",
    "    ]\n",
    ")\n",
    "\n",
    "strobe = Fixture(\n",
    "    name=\"strobe\", \n",
    "    channel_count=6, \n",
    "    channels=[\n",
    "        Channel(1, 255, \"brightness\", \"\"),\n",
    "        Channel(2, 0, \"strobe\", \"0-5 open, rest are effects, 128-250 is standard range\"),\n",
    "        Channel(3, 0, \"red\", \"\"),\n",
    "        Channel(4, 0, \"green\", \"\"),\n",
    "        Channel(5, 0, \"blue\", \"\"),\n",
    "        Channel(6, 0, \"auto_sound\", \"\")\n",
    "    ],\n",
    "    strobe_range=(128,250)\n",
    ")\n",
    "\n",
    "fog_machine = Fixture(\n",
    "    name=\"fog machine\",\n",
    "    channel_count=7,\n",
    "    channels=[\n",
    "        Channel(7, 0, \"fog\", \"\"),\n",
    "        Channel(8, 0, \"red\", \"\"),\n",
    "        Channel(9, 0, \"green\", \"\"),\n",
    "        Channel(10, 0, \"blue\", \"\"),\n",
    "        Channel(11, 0, \"strobe\", \"\"),\n",
    "        Channel(12, 0, \"stupid\", \"NO THIS IS A LIE, its some color changing value: 0-9 is off, can be adjusted 10-250, 250+ is music\"),\n",
    "        Channel(13, 0, \"auto_sound\", \"\")\n",
    "    ]\n",
    ")\n",
    "\n",
    "led_bars = Fixture(\n",
    "    name=\"led_bar\",\n",
    "    channel_count=432,\n",
    "    channels = generate_led_bar_channels(1),\n",
    "    color_max = 100\n",
    ")\n",
    "\n",
    "mirror_spotlights = Fixture(\n",
    "    name=\"spotlights\",\n",
    "    channel_count=9,\n",
    "    channels = [\n",
    "        Channel(1, 0, \"pan\", \"\"),\n",
    "        Channel(2, 0, \"tilt\", \"\"),\n",
    "        Channel(3, 0, \"rgb\", \"\"),\n",
    "        Channel(4, 0, \"gobo\", \"this is a pattern, 254 is sound active slow, 255 sound active fast\"),\n",
    "        Channel(5, 0, \"strobe\", \"soundactive 32-47, slow-fast is 48-239\"),\n",
    "        Channel(6, 0, \"mirror_speed\", \"slow->fast\"),\n",
    "        Channel(7, 0, \"mirror_movement\", \"\"),\n",
    "        Channel(8, 0, \"laser\", \"\"),\n",
    "        Channel(9, 0, \"special\", \"\")\n",
    "    ],\n",
    "    strobe_range=(48,239)\n",
    ")"
   ]
  },
  {
   "cell_type": "code",
   "execution_count": 4,
   "id": "0dec8096",
   "metadata": {
    "scrolled": true,
    "slideshow": {
     "slide_type": "slide"
    }
   },
   "outputs": [],
   "source": [
    "colors = [\n",
    "    Color(\"white\", red=255, green=255, blue=255, spotlight_num=1),\n",
    "    Color(\"green\", red=0, green=255, blue=0, spotlight_num=10),\n",
    "    Color(\"red\", red=255, green=0, blue=0, spotlight_num=18),\n",
    "    Color(\"blue\", red=0, green=0, blue=255, spotlight_num=26),\n",
    "    Color(\"yellow\", red=255, green=255, blue=0, spotlight_num=34),\n",
    "    Color(\"pink\", red=255, green=105, blue=181, spotlight_num=42),\n",
    "    Color(\"dark aqua\", red=0, green=255, blue=255, spotlight_num=50),\n",
    "    Color(\"light magenta\", red=237, green=8, blue=237, spotlight_num=58),\n",
    "    Color(\"sky blue\", red=135, green=206, blue=250, spotlight_num=68),\n",
    "    Color(\"magenta\", red=204, green=0, blue=204, spotlight_num=74),\n",
    "    Color(\"violet\", red=237, green=130, blue=237, spotlight_num=82),\n",
    "    Color(\"purple\", red=160, green=48, blue=255, spotlight_num=90),\n",
    "    Color(\"canary yellow\", red=255, green=204, blue=17, spotlight_num=98),\n",
    "    Color(\"lime green\", red=0, green=205, blue=50, spotlight_num=106),\n",
    "    Color(\"orange\", red=255, green=165, blue=0, spotlight_num=114),\n",
    "    Color(\"light aqua\", red=0, green=219, blue=255, spotlight_num=122),\n",
    "]"
   ]
  },
  {
   "cell_type": "code",
   "execution_count": 5,
   "id": "50cb5c34",
   "metadata": {
    "scrolled": true,
    "slideshow": {
     "slide_type": "subslide"
    }
   },
   "outputs": [],
   "source": [
    "all_lights = Universe([], Controller('COM3'))\n",
    "all_lights.add_fixture(par_lights)\n",
    "# all_lights.add_fixture(strobe)\n",
    "# all_lights.add_fixture(led_bars)\n",
    "# all_lights.add_fixture(fog_machine)"
   ]
  },
  {
   "cell_type": "code",
   "execution_count": 8,
   "id": "f1ca50ec",
   "metadata": {
    "scrolled": false
   },
   "outputs": [
    {
     "data": {
      "application/vnd.jupyter.widget-view+json": {
       "model_id": "1a85d021b3254f68afe7abb78477dd4b",
       "version_major": 2,
       "version_minor": 0
      },
      "text/plain": [
       "Output(layout=Layout(border_bottom='1px solid black', border_left='1px solid black', border_right='1px solid b…"
      ]
     },
     "metadata": {},
     "output_type": "display_data"
    },
    {
     "data": {
      "application/vnd.jupyter.widget-view+json": {
       "model_id": "7da7a7eb69a4485db34afb729e223d57",
       "version_major": 2,
       "version_minor": 0
      },
      "text/plain": [
       "HTML(value='<h1>BLACKOUT</h1>')"
      ]
     },
     "metadata": {},
     "output_type": "display_data"
    },
    {
     "data": {
      "application/vnd.jupyter.widget-view+json": {
       "model_id": "9bfb06012c024bd2bf5905035ea5ba3a",
       "version_major": 2,
       "version_minor": 0
      },
      "text/plain": [
       "Button(description='BLACKOUT', style=ButtonStyle())"
      ]
     },
     "metadata": {},
     "output_type": "display_data"
    },
    {
     "data": {
      "application/vnd.jupyter.widget-view+json": {
       "model_id": "4053a05b1b964f3dbdd1a73a7419d6e2",
       "version_major": 2,
       "version_minor": 0
      },
      "text/plain": [
       "Output(layout=Layout(border_bottom='1px solid black', border_left='1px solid black', border_right='1px solid b…"
      ]
     },
     "metadata": {},
     "output_type": "display_data"
    },
    {
     "data": {
      "application/vnd.jupyter.widget-view+json": {
       "model_id": "7b15bf27d5474bb584fe7f63e1ba9f17",
       "version_major": 2,
       "version_minor": 0
      },
      "text/plain": [
       "HTML(value='<h1>SET A STATIC COLOR</h1>')"
      ]
     },
     "metadata": {},
     "output_type": "display_data"
    },
    {
     "data": {
      "application/vnd.jupyter.widget-view+json": {
       "model_id": "a7a9b895388a4916a8f8f026fab3ed0b",
       "version_major": 2,
       "version_minor": 0
      },
      "text/plain": [
       "ToggleButtons(options=('white', 'green', 'red', 'blue', 'yellow', 'pink', 'dark aqua', 'light magenta', 'sky b…"
      ]
     },
     "metadata": {},
     "output_type": "display_data"
    },
    {
     "data": {
      "application/vnd.jupyter.widget-view+json": {
       "model_id": "4053a05b1b964f3dbdd1a73a7419d6e2",
       "version_major": 2,
       "version_minor": 0
      },
      "text/plain": [
       "Output(layout=Layout(border_bottom='1px solid black', border_left='1px solid black', border_right='1px solid b…"
      ]
     },
     "metadata": {},
     "output_type": "display_data"
    },
    {
     "data": {
      "application/vnd.jupyter.widget-view+json": {
       "model_id": "c2cdfa412d84425cb5d00c1f9fb6d5a5",
       "version_major": 2,
       "version_minor": 0
      },
      "text/plain": [
       "HTML(value='<h1>START CONTINuOUS COLOR DRIFT</h1>')"
      ]
     },
     "metadata": {},
     "output_type": "display_data"
    },
    {
     "data": {
      "application/vnd.jupyter.widget-view+json": {
       "model_id": "c263c46b34b64496b2ea4b8f64002412",
       "version_major": 2,
       "version_minor": 0
      },
      "text/plain": [
       "BoundedIntText(value=4, description='Seconds:', max=60, min=1)"
      ]
     },
     "metadata": {},
     "output_type": "display_data"
    },
    {
     "data": {
      "application/vnd.jupyter.widget-view+json": {
       "model_id": "af980c1df195448e9f363f2fb3be2c18",
       "version_major": 2,
       "version_minor": 0
      },
      "text/plain": [
       "BoundedFloatText(value=1.0, description='pause sec:', max=60.0, step=0.5)"
      ]
     },
     "metadata": {},
     "output_type": "display_data"
    },
    {
     "data": {
      "application/vnd.jupyter.widget-view+json": {
       "model_id": "8b403abcf2244526941cb96e8fc7fe08",
       "version_major": 2,
       "version_minor": 0
      },
      "text/plain": [
       "Button(description='Start color drift', style=ButtonStyle())"
      ]
     },
     "metadata": {},
     "output_type": "display_data"
    },
    {
     "data": {
      "application/vnd.jupyter.widget-view+json": {
       "model_id": "604afb97d5324279beba50e431df2804",
       "version_major": 2,
       "version_minor": 0
      },
      "text/plain": [
       "Button(description='STOP', style=ButtonStyle())"
      ]
     },
     "metadata": {},
     "output_type": "display_data"
    },
    {
     "data": {
      "application/vnd.jupyter.widget-view+json": {
       "model_id": "e7193d43641d40dbb964068c80962987",
       "version_major": 2,
       "version_minor": 0
      },
      "text/plain": [
       "Output(layout=Layout(border_bottom='1px solid black', border_left='1px solid black', border_right='1px solid b…"
      ]
     },
     "metadata": {},
     "output_type": "display_data"
    },
    {
     "data": {
      "application/vnd.jupyter.widget-view+json": {
       "model_id": "7151c88dfcba415eb5028598efde1c24",
       "version_major": 2,
       "version_minor": 0
      },
      "text/plain": [
       "HTML(value='<h1>START CONTINuOUS COLOR CHANGE</h1>')"
      ]
     },
     "metadata": {},
     "output_type": "display_data"
    },
    {
     "data": {
      "application/vnd.jupyter.widget-view+json": {
       "model_id": "49118eea11d54a8cbd82b4c6d39c0049",
       "version_major": 2,
       "version_minor": 0
      },
      "text/plain": [
       "BoundedIntText(value=128, description='BPM:', max=500, min=60)"
      ]
     },
     "metadata": {},
     "output_type": "display_data"
    },
    {
     "data": {
      "application/vnd.jupyter.widget-view+json": {
       "model_id": "2671ed0659014540ac9fb22e0ac06ecd",
       "version_major": 2,
       "version_minor": 0
      },
      "text/plain": [
       "Button(description='Start color cycle', style=ButtonStyle())"
      ]
     },
     "metadata": {},
     "output_type": "display_data"
    },
    {
     "data": {
      "application/vnd.jupyter.widget-view+json": {
       "model_id": "d8df4777bb844653af2412d1bc76659d",
       "version_major": 2,
       "version_minor": 0
      },
      "text/plain": [
       "Button(description='STOP', disabled=True, style=ButtonStyle())"
      ]
     },
     "metadata": {},
     "output_type": "display_data"
    },
    {
     "data": {
      "application/vnd.jupyter.widget-view+json": {
       "model_id": "e7193d43641d40dbb964068c80962987",
       "version_major": 2,
       "version_minor": 0
      },
      "text/plain": [
       "Output(layout=Layout(border_bottom='1px solid black', border_left='1px solid black', border_right='1px solid b…"
      ]
     },
     "metadata": {},
     "output_type": "display_data"
    },
    {
     "data": {
      "application/vnd.jupyter.widget-view+json": {
       "model_id": "012db88725334c869dbe47562dbe1ea8",
       "version_major": 2,
       "version_minor": 0
      },
      "text/plain": [
       "HTML(value='<h1>DRIFT ONCE TO COLOR</h1>')"
      ]
     },
     "metadata": {},
     "output_type": "display_data"
    },
    {
     "data": {
      "application/vnd.jupyter.widget-view+json": {
       "model_id": "de699b8797d14b26b63a53118373d679",
       "version_major": 2,
       "version_minor": 0
      },
      "text/plain": [
       "IntSlider(value=2, continuous_update=False, description='Seconds:', max=20, min=1)"
      ]
     },
     "metadata": {},
     "output_type": "display_data"
    },
    {
     "data": {
      "application/vnd.jupyter.widget-view+json": {
       "model_id": "a7f89875fb094cf589c5913d9cd3134c",
       "version_major": 2,
       "version_minor": 0
      },
      "text/plain": [
       "ToggleButtons(description='Fade to this color:', options=('white', 'green', 'red', 'blue', 'yellow', 'pink', '…"
      ]
     },
     "metadata": {},
     "output_type": "display_data"
    },
    {
     "data": {
      "application/vnd.jupyter.widget-view+json": {
       "model_id": "e7193d43641d40dbb964068c80962987",
       "version_major": 2,
       "version_minor": 0
      },
      "text/plain": [
       "Output(layout=Layout(border_bottom='1px solid black', border_left='1px solid black', border_right='1px solid b…"
      ]
     },
     "metadata": {},
     "output_type": "display_data"
    },
    {
     "data": {
      "application/vnd.jupyter.widget-view+json": {
       "model_id": "8de827793b584e479c8d6f40c1a08aa9",
       "version_major": 2,
       "version_minor": 0
      },
      "text/plain": [
       "HTML(value='<h1>USE LED BARS TO CHASE TO COLOR</h1>')"
      ]
     },
     "metadata": {},
     "output_type": "display_data"
    },
    {
     "data": {
      "application/vnd.jupyter.widget-view+json": {
       "model_id": "0ad74cf9bf6e455f8d3f43b471c20c3d",
       "version_major": 2,
       "version_minor": 0
      },
      "text/plain": [
       "IntSlider(value=2, continuous_update=False, description='Seconds:', max=60, min=1)"
      ]
     },
     "metadata": {},
     "output_type": "display_data"
    },
    {
     "data": {
      "application/vnd.jupyter.widget-view+json": {
       "model_id": "b5daecdda09941a7a16e4508ba6663c0",
       "version_major": 2,
       "version_minor": 0
      },
      "text/plain": [
       "ToggleButtons(description='ChaseLED to this color:', options=('white', 'green', 'red', 'blue', 'yellow', 'pink…"
      ]
     },
     "metadata": {},
     "output_type": "display_data"
    },
    {
     "data": {
      "application/vnd.jupyter.widget-view+json": {
       "model_id": "e7193d43641d40dbb964068c80962987",
       "version_major": 2,
       "version_minor": 0
      },
      "text/plain": [
       "Output(layout=Layout(border_bottom='1px solid black', border_left='1px solid black', border_right='1px solid b…"
      ]
     },
     "metadata": {},
     "output_type": "display_data"
    },
    {
     "data": {
      "application/vnd.jupyter.widget-view+json": {
       "model_id": "ab7e99b5779d47d6a28dfcdbb3a9317f",
       "version_major": 2,
       "version_minor": 0
      },
      "text/plain": [
       "HTML(value='<h1>SET STROBE PERCENT</h1>')"
      ]
     },
     "metadata": {},
     "output_type": "display_data"
    },
    {
     "data": {
      "application/vnd.jupyter.widget-view+json": {
       "model_id": "ba40229ff66b48dabf27bbce1efe17fc",
       "version_major": 2,
       "version_minor": 0
      },
      "text/plain": [
       "Button(description='Start strobe', style=ButtonStyle())"
      ]
     },
     "metadata": {},
     "output_type": "display_data"
    },
    {
     "data": {
      "application/vnd.jupyter.widget-view+json": {
       "model_id": "cc259e7e41b34e6da37fd666dd1b834c",
       "version_major": 2,
       "version_minor": 0
      },
      "text/plain": [
       "Button(description='Stop strobe', style=ButtonStyle())"
      ]
     },
     "metadata": {},
     "output_type": "display_data"
    },
    {
     "data": {
      "application/vnd.jupyter.widget-view+json": {
       "model_id": "3c5e5acb29034cf5ab3643a41fad5f3c",
       "version_major": 2,
       "version_minor": 0
      },
      "text/plain": [
       "IntSlider(value=50, continuous_update=False, description='Percent:')"
      ]
     },
     "metadata": {},
     "output_type": "display_data"
    },
    {
     "data": {
      "application/vnd.jupyter.widget-view+json": {
       "model_id": "e7193d43641d40dbb964068c80962987",
       "version_major": 2,
       "version_minor": 0
      },
      "text/plain": [
       "Output(layout=Layout(border_bottom='1px solid black', border_left='1px solid black', border_right='1px solid b…"
      ]
     },
     "metadata": {},
     "output_type": "display_data"
    }
   ],
   "source": [
    "###################BLACKOUT##################\n",
    "out = widgets.Output(layout={'border': '1px solid black'})\n",
    "display(out)\n",
    "title = widgets.HTML(\n",
    "    value=\"<h1>BLACKOUT</h1>\"\n",
    ")\n",
    "\n",
    "display(title)\n",
    "blackout_button = widgets.Button(description=\"BLACKOUT\")\n",
    "display(blackout_button)\n",
    "\n",
    "def on_blackout(button):\n",
    "    all_lights.blackout()\n",
    "    \n",
    "blackout_button.on_click(on_blackout)\n",
    "\n",
    "###########STATIC COLOR###############\n",
    "out = widgets.Output(layout={'border': '1px solid black'})\n",
    "display(out)\n",
    "title = widgets.HTML(\n",
    "    value=\"<h1>SET A STATIC COLOR</h1>\"\n",
    ")\n",
    "\n",
    "display(title)\n",
    "color_names = []\n",
    "for color in colors:\n",
    "    color_names.append(color.name)\n",
    "\n",
    "color_buttons = widgets.ToggleButtons(\n",
    "    options=color_names,\n",
    "    disabled=False,\n",
    "    button_style='', # 'success', 'info', 'warning', 'danger' or ''\n",
    ")\n",
    "\n",
    "display(color_buttons)\n",
    "\n",
    "def on_click_static(button):\n",
    "    all_lights.set_all_colors(next(color for color in colors if color.name == button.new))\n",
    "\n",
    "color_buttons.observe(on_click_static, 'value')\n",
    "\n",
    "\n",
    "########DRIFT##############\n",
    "cancel_future__drift_calls = None\n",
    "random_prior_index = 0\n",
    "\n",
    "seconds = widgets.BoundedIntText(\n",
    "    value=4,\n",
    "    min=1,\n",
    "    max=60,\n",
    "    step=1,\n",
    "    description='Seconds:'\n",
    ")\n",
    "\n",
    "seconds_pause = widgets.BoundedFloatText(\n",
    "    value=1,\n",
    "    min=0,\n",
    "    max=60,\n",
    "    step=0.5,\n",
    "    description='pause sec:'\n",
    ")\n",
    "\n",
    "display(out)\n",
    "title = widgets.HTML(\n",
    "    value=\"<h1>START CONTINuOUS COLOR DRIFT</h1>\"\n",
    ")\n",
    "\n",
    "display(title)\n",
    "display(seconds)\n",
    "display(seconds_pause)\n",
    "\n",
    "drift_button = widgets.Button(description=\"Start color drift\")\n",
    "drift_stop_button = widgets.Button(description=\"STOP\")\n",
    "\n",
    "display(drift_button)\n",
    "display(drift_stop_button)\n",
    "def on_drift_button_clicked(b):\n",
    "    drift_button.disabled = True\n",
    "    seconds.disabled = True\n",
    "    drift_stop_button.disabled = False\n",
    "    global cancel_future__drift_calls    \n",
    "    cancel_future__drift_calls = call_repeatedly(seconds.value + seconds_pause.value, all_lights.color_fade, colors, seconds.value, True)\n",
    "    \n",
    "    \n",
    "def on_drift_stop_button_clicked(b):\n",
    "    drift_button.disabled = False\n",
    "    cancel_future__drift_calls()\n",
    "    drift_stop_button.disabled = True\n",
    "    seconds.disabled = False\n",
    "\n",
    "drift_button.on_click(on_drift_button_clicked)\n",
    "drift_stop_button.on_click(on_drift_stop_button_clicked)\n",
    "\n",
    "out = widgets.Output(layout={'border': '1px solid black'})\n",
    "display(out)\n",
    "\n",
    "###########COLOR CYCLE ###############\n",
    "title = widgets.HTML(\n",
    "    value=\"<h1>START CONTINuOUS COLOR CHANGE</h1>\"\n",
    ")\n",
    "\n",
    "display(title)\n",
    "cancel_future_calls = None\n",
    "bpm = widgets.BoundedIntText(\n",
    "    value=128,\n",
    "    min=60,\n",
    "    max=500,\n",
    "    step=1,\n",
    "    description='BPM:',\n",
    "    disabled=False\n",
    ")\n",
    "\n",
    "display(bpm)\n",
    "\n",
    "button = widgets.Button(description=\"Start color cycle\")\n",
    "stop_button = widgets.Button(description=\"STOP\", disabled=True)\n",
    "\n",
    "display(button)\n",
    "display(stop_button)\n",
    "def on_button_clicked(b):\n",
    "    button.disabled = True\n",
    "    bpm.disabled = True\n",
    "    global cancel_future_calls\n",
    "    cancel_future_calls = call_repeatedly(1/(bpm.value/60), all_lights.cyle_thru_colors, colors, 1)\n",
    "    stop_button.disabled = False\n",
    "    \n",
    "def on_stop_button_clicked(b):\n",
    "    button.disabled = False\n",
    "    cancel_future_calls()\n",
    "    stop_button.disabled = True\n",
    "    bpm.disabled = False\n",
    "\n",
    "button.on_click(on_button_clicked)\n",
    "stop_button.on_click(on_stop_button_clicked)\n",
    "\n",
    "display(out)\n",
    "\n",
    "###############DRITFT TO COLOR###############\n",
    "title = widgets.HTML(\n",
    "    value=\"<h1>DRIFT ONCE TO COLOR</h1>\"\n",
    ")\n",
    "\n",
    "display(title)\n",
    "color_names = []\n",
    "for color in colors:\n",
    "    color_names.append(color.name)\n",
    "\n",
    "color_buttons_fade = widgets.ToggleButtons(\n",
    "    options=color_names,\n",
    "    description='Fade to this color:',\n",
    "    disabled=False,\n",
    "    button_style='', # 'success', 'info', 'warning', 'danger' or ''\n",
    ")\n",
    "duration = widgets.IntSlider(\n",
    "    value=2,\n",
    "    min=1,\n",
    "    max=20,\n",
    "    step=1,\n",
    "    description='Seconds:',\n",
    "    disabled=False,\n",
    "    continuous_update=False,\n",
    "    orientation='horizontal',\n",
    "    readout=True,\n",
    "    readout_format='d'\n",
    ")\n",
    "\n",
    "display(duration)\n",
    "display(color_buttons_fade)\n",
    "\n",
    "def on_click_fade(button):\n",
    "    all_lights.color_fade([next(color for color in colors if color.name == button.new)], duration.value)\n",
    "\n",
    "color_buttons_fade.observe(on_click_fade, 'value')\n",
    "\n",
    "display(out)\n",
    "\n",
    "##################LED BAR CHASE TO COLOR#####################################################\n",
    "title = widgets.HTML(\n",
    "    value=\"<h1>USE LED BARS TO CHASE TO COLOR</h1>\"\n",
    ")\n",
    "\n",
    "display(title)\n",
    "color_names = []\n",
    "for color in colors:\n",
    "    color_names.append(color.name)\n",
    "\n",
    "color_buttons_led = widgets.ToggleButtons(\n",
    "    options=color_names,\n",
    "    description='ChaseLED to this color:',\n",
    "    disabled=False,\n",
    "    button_style='', # 'success', 'info', 'warning', 'danger' or ''\n",
    ")\n",
    "duration_led = widgets.IntSlider(\n",
    "    value=2,\n",
    "    min=1,\n",
    "    max=60,\n",
    "    step=1,\n",
    "    description='Seconds:',\n",
    "    disabled=False,\n",
    "    continuous_update=False,\n",
    "    orientation='horizontal',\n",
    "    readout=True,\n",
    "    readout_format='d'\n",
    ")\n",
    "\n",
    "display(duration_led)\n",
    "display(color_buttons_led)\n",
    "\n",
    "def on_click_chase(button):\n",
    "    all_lights.led_chase_to(next(color for color in colors if color.name == button.new), duration_led.value)\n",
    "\n",
    "color_buttons_led.observe(on_click_chase, 'value')\n",
    "display(out)\n",
    "\n",
    "#####################STROBE###############################\n",
    "title = widgets.HTML(\n",
    "    value=\"<h1>SET STROBE PERCENT</h1>\"\n",
    ")\n",
    "\n",
    "display(title)\n",
    "color_names = []\n",
    "for color in colors:\n",
    "    color_names.append(color.name)\n",
    "\n",
    "duration_strobe = widgets.IntSlider(\n",
    "    value=50,\n",
    "    min=0,\n",
    "    max=100,\n",
    "    step=1,\n",
    "    description='Percent:',\n",
    "    disabled=False,\n",
    "    continuous_update=False,\n",
    "    orientation='horizontal',\n",
    "    readout=True,\n",
    "    readout_format='d'\n",
    ")\n",
    "\n",
    "\n",
    "start_strobe = widgets.Button(description=\"Start strobe\")\n",
    "stop_strobe = widgets.Button(description=\"Stop strobe\")\n",
    "\n",
    "display(start_strobe)\n",
    "display(stop_strobe)\n",
    "display(duration_strobe)\n",
    "\n",
    "def on_click_strobe(button):\n",
    "    all_lights.set_strobe_percent(duration_strobe.value)\n",
    "    \n",
    "def on_click_stop_strobe(button):\n",
    "    all_lights.set_strobe_percent(0)\n",
    "    \n",
    "stop_strobe.on_click(on_click_stop_strobe)\n",
    "    \n",
    "start_strobe.on_click(on_click_strobe)\n",
    "\n",
    "display(out)"
   ]
  },
  {
   "cell_type": "code",
   "execution_count": 9,
   "id": "a9b1bf7d",
   "metadata": {
    "scrolled": true
   },
   "outputs": [
    {
     "name": "stdout",
     "output_type": "stream",
     "text": [
      "\n",
      "par:\n",
      "\n",
      "Channel(index=1, value=255, type='brightness', description='')\n",
      "Channel(index=2, value=255, type='red', description='')\n",
      "Channel(index=3, value=165, type='green', description='')\n",
      "Channel(index=4, value=0, type='blue', description='')\n",
      "Channel(index=5, value=0, type='rgb', description='')\n",
      "Channel(index=6, value=0, type='strobe', description='')\n",
      "Channel(index=7, value=0, type='mode', description='')\n"
     ]
    }
   ],
   "source": [
    "for fixture in all_lights.fixtures:\n",
    "    if fixture.name != \"led_bars\":\n",
    "        print(f'\\n{fixture.name}:\\n')\n",
    "        for channel in fixture.channels:\n",
    "            print(channel)"
   ]
  },
  {
   "cell_type": "code",
   "execution_count": 16,
   "id": "c337b45c",
   "metadata": {
    "scrolled": true
   },
   "outputs": [],
   "source": [
    "all_lights.set_channel_value(channel_num=7, value=0)"
   ]
  },
  {
   "cell_type": "code",
   "execution_count": null,
   "id": "27df7136",
   "metadata": {},
   "outputs": [],
   "source": []
  },
  {
   "cell_type": "code",
   "execution_count": null,
   "id": "7c61bb20",
   "metadata": {},
   "outputs": [],
   "source": []
  },
  {
   "cell_type": "code",
   "execution_count": null,
   "id": "580ef7c0",
   "metadata": {},
   "outputs": [],
   "source": []
  },
  {
   "cell_type": "code",
   "execution_count": null,
   "id": "3f1f90cc",
   "metadata": {},
   "outputs": [],
   "source": []
  },
  {
   "cell_type": "code",
   "execution_count": null,
   "id": "5db918c3",
   "metadata": {},
   "outputs": [],
   "source": []
  },
  {
   "cell_type": "code",
   "execution_count": null,
   "id": "0618d7b3",
   "metadata": {},
   "outputs": [],
   "source": []
  },
  {
   "cell_type": "code",
   "execution_count": null,
   "id": "861a77a0",
   "metadata": {},
   "outputs": [],
   "source": []
  },
  {
   "cell_type": "code",
   "execution_count": null,
   "id": "696f3446",
   "metadata": {},
   "outputs": [],
   "source": []
  },
  {
   "cell_type": "code",
   "execution_count": null,
   "id": "a2e2b388",
   "metadata": {},
   "outputs": [],
   "source": []
  },
  {
   "cell_type": "code",
   "execution_count": null,
   "id": "50604e1b",
   "metadata": {},
   "outputs": [],
   "source": []
  },
  {
   "cell_type": "code",
   "execution_count": null,
   "id": "ae34c3ad",
   "metadata": {},
   "outputs": [],
   "source": []
  },
  {
   "cell_type": "code",
   "execution_count": null,
   "id": "53421387",
   "metadata": {},
   "outputs": [],
   "source": []
  },
  {
   "cell_type": "code",
   "execution_count": null,
   "id": "83a30d8a",
   "metadata": {},
   "outputs": [],
   "source": []
  },
  {
   "cell_type": "code",
   "execution_count": null,
   "id": "420f8011",
   "metadata": {
    "scrolled": true
   },
   "outputs": [],
   "source": []
  },
  {
   "cell_type": "code",
   "execution_count": 9,
   "id": "1bdaeacc",
   "metadata": {
    "scrolled": true
   },
   "outputs": [
    {
     "ename": "SerialException",
     "evalue": "could not open port 'COM6': PermissionError(13, 'Access is denied.', None, 5)",
     "output_type": "error",
     "traceback": [
      "\u001b[1;31m---------------------------------------------------------------------------\u001b[0m",
      "\u001b[1;31mSerialException\u001b[0m                           Traceback (most recent call last)",
      "Cell \u001b[1;32mIn[9], line 2\u001b[0m\n\u001b[0;32m      1\u001b[0m \u001b[38;5;28;01mfrom\u001b[39;00m \u001b[38;5;21;01mDMXEnttecPro\u001b[39;00m \u001b[38;5;28;01mimport\u001b[39;00m Controller\n\u001b[1;32m----> 2\u001b[0m dmx \u001b[38;5;241m=\u001b[39m \u001b[43mController\u001b[49m\u001b[43m(\u001b[49m\u001b[38;5;124;43m'\u001b[39;49m\u001b[38;5;124;43mCOM6\u001b[39;49m\u001b[38;5;124;43m'\u001b[39;49m\u001b[43m)\u001b[49m  \u001b[38;5;66;03m# Typical of Windows\u001b[39;00m\n\u001b[0;32m      3\u001b[0m \u001b[38;5;66;03m# dmx = Controller('/dev/ttyUSB0')  # Typical of Linux\u001b[39;00m\n",
      "File \u001b[1;32m~\\AppData\\Local\\Programs\\Python\\Python310\\lib\\site-packages\\DMXEnttecPro\\controller.py:56\u001b[0m, in \u001b[0;36mController.__init__\u001b[1;34m(self, port_string, dmx_size, baudrate, timeout, auto_submit)\u001b[0m\n\u001b[0;32m     53\u001b[0m \u001b[38;5;28mself\u001b[39m\u001b[38;5;241m.\u001b[39mtimeout \u001b[38;5;241m=\u001b[39m timeout\n\u001b[0;32m     54\u001b[0m \u001b[38;5;28mself\u001b[39m\u001b[38;5;241m.\u001b[39mauto_submit \u001b[38;5;241m=\u001b[39m auto_submit\n\u001b[1;32m---> 56\u001b[0m \u001b[38;5;28mself\u001b[39m\u001b[38;5;241m.\u001b[39m_conn \u001b[38;5;241m=\u001b[39m \u001b[43mserial\u001b[49m\u001b[38;5;241;43m.\u001b[39;49m\u001b[43mSerial\u001b[49m\u001b[43m(\u001b[49m\n\u001b[0;32m     57\u001b[0m \u001b[43m    \u001b[49m\u001b[43mport_string\u001b[49m\u001b[43m,\u001b[49m\n\u001b[0;32m     58\u001b[0m \u001b[43m    \u001b[49m\u001b[43mbaudrate\u001b[49m\u001b[38;5;241;43m=\u001b[39;49m\u001b[38;5;28;43mself\u001b[39;49m\u001b[38;5;241;43m.\u001b[39;49m\u001b[43mbaudrate\u001b[49m\u001b[43m,\u001b[49m\n\u001b[0;32m     59\u001b[0m \u001b[43m    \u001b[49m\u001b[43mtimeout\u001b[49m\u001b[38;5;241;43m=\u001b[39;49m\u001b[38;5;28;43mself\u001b[39;49m\u001b[38;5;241;43m.\u001b[39;49m\u001b[43mtimeout\u001b[49m\n\u001b[0;32m     60\u001b[0m \u001b[43m    \u001b[49m\u001b[43m)\u001b[49m\n\u001b[0;32m     62\u001b[0m \u001b[38;5;28mself\u001b[39m\u001b[38;5;241m.\u001b[39mchannels \u001b[38;5;241m=\u001b[39m \u001b[38;5;28mbytearray\u001b[39m(\u001b[38;5;28mself\u001b[39m\u001b[38;5;241m.\u001b[39mdmx_size)\n\u001b[0;32m     63\u001b[0m \u001b[38;5;28mself\u001b[39m\u001b[38;5;241m.\u001b[39m_last_submitted_channels \u001b[38;5;241m=\u001b[39m \u001b[38;5;28mbytearray\u001b[39m(\u001b[38;5;28mself\u001b[39m\u001b[38;5;241m.\u001b[39mdmx_size)\n",
      "File \u001b[1;32m~\\AppData\\Local\\Programs\\Python\\Python310\\lib\\site-packages\\serial\\serialwin32.py:33\u001b[0m, in \u001b[0;36mSerial.__init__\u001b[1;34m(self, *args, **kwargs)\u001b[0m\n\u001b[0;32m     31\u001b[0m \u001b[38;5;28mself\u001b[39m\u001b[38;5;241m.\u001b[39m_overlapped_read \u001b[38;5;241m=\u001b[39m \u001b[38;5;28;01mNone\u001b[39;00m\n\u001b[0;32m     32\u001b[0m \u001b[38;5;28mself\u001b[39m\u001b[38;5;241m.\u001b[39m_overlapped_write \u001b[38;5;241m=\u001b[39m \u001b[38;5;28;01mNone\u001b[39;00m\n\u001b[1;32m---> 33\u001b[0m \u001b[38;5;28msuper\u001b[39m(Serial, \u001b[38;5;28mself\u001b[39m)\u001b[38;5;241m.\u001b[39m\u001b[38;5;21m__init__\u001b[39m(\u001b[38;5;241m*\u001b[39margs, \u001b[38;5;241m*\u001b[39m\u001b[38;5;241m*\u001b[39mkwargs)\n",
      "File \u001b[1;32m~\\AppData\\Local\\Programs\\Python\\Python310\\lib\\site-packages\\serial\\serialutil.py:244\u001b[0m, in \u001b[0;36mSerialBase.__init__\u001b[1;34m(self, port, baudrate, bytesize, parity, stopbits, timeout, xonxoff, rtscts, write_timeout, dsrdtr, inter_byte_timeout, exclusive, **kwargs)\u001b[0m\n\u001b[0;32m    241\u001b[0m     \u001b[38;5;28;01mraise\u001b[39;00m \u001b[38;5;167;01mValueError\u001b[39;00m(\u001b[38;5;124m'\u001b[39m\u001b[38;5;124munexpected keyword arguments: \u001b[39m\u001b[38;5;132;01m{!r}\u001b[39;00m\u001b[38;5;124m'\u001b[39m\u001b[38;5;241m.\u001b[39mformat(kwargs))\n\u001b[0;32m    243\u001b[0m \u001b[38;5;28;01mif\u001b[39;00m port \u001b[38;5;129;01mis\u001b[39;00m \u001b[38;5;129;01mnot\u001b[39;00m \u001b[38;5;28;01mNone\u001b[39;00m:\n\u001b[1;32m--> 244\u001b[0m     \u001b[38;5;28;43mself\u001b[39;49m\u001b[38;5;241;43m.\u001b[39;49m\u001b[43mopen\u001b[49m\u001b[43m(\u001b[49m\u001b[43m)\u001b[49m\n",
      "File \u001b[1;32m~\\AppData\\Local\\Programs\\Python\\Python310\\lib\\site-packages\\serial\\serialwin32.py:64\u001b[0m, in \u001b[0;36mSerial.open\u001b[1;34m(self)\u001b[0m\n\u001b[0;32m     62\u001b[0m \u001b[38;5;28;01mif\u001b[39;00m \u001b[38;5;28mself\u001b[39m\u001b[38;5;241m.\u001b[39m_port_handle \u001b[38;5;241m==\u001b[39m win32\u001b[38;5;241m.\u001b[39mINVALID_HANDLE_VALUE:\n\u001b[0;32m     63\u001b[0m     \u001b[38;5;28mself\u001b[39m\u001b[38;5;241m.\u001b[39m_port_handle \u001b[38;5;241m=\u001b[39m \u001b[38;5;28;01mNone\u001b[39;00m    \u001b[38;5;66;03m# 'cause __del__ is called anyway\u001b[39;00m\n\u001b[1;32m---> 64\u001b[0m     \u001b[38;5;28;01mraise\u001b[39;00m SerialException(\u001b[38;5;124m\"\u001b[39m\u001b[38;5;124mcould not open port \u001b[39m\u001b[38;5;132;01m{!r}\u001b[39;00m\u001b[38;5;124m: \u001b[39m\u001b[38;5;132;01m{!r}\u001b[39;00m\u001b[38;5;124m\"\u001b[39m\u001b[38;5;241m.\u001b[39mformat(\u001b[38;5;28mself\u001b[39m\u001b[38;5;241m.\u001b[39mportstr, ctypes\u001b[38;5;241m.\u001b[39mWinError()))\n\u001b[0;32m     66\u001b[0m \u001b[38;5;28;01mtry\u001b[39;00m:\n\u001b[0;32m     67\u001b[0m     \u001b[38;5;28mself\u001b[39m\u001b[38;5;241m.\u001b[39m_overlapped_read \u001b[38;5;241m=\u001b[39m win32\u001b[38;5;241m.\u001b[39mOVERLAPPED()\n",
      "\u001b[1;31mSerialException\u001b[0m: could not open port 'COM6': PermissionError(13, 'Access is denied.', None, 5)"
     ]
    }
   ],
   "source": [
    "from DMXEnttecPro import Controller\n",
    "dmx = Controller('COM6')  # Typical of Windows\n",
    "# dmx = Controller('/dev/ttyUSB0')  # Typical of Linux"
   ]
  },
  {
   "cell_type": "code",
   "execution_count": null,
   "id": "f298abda",
   "metadata": {
    "scrolled": true
   },
   "outputs": [],
   "source": [
    "# dmx.set_channel(1, 255)  # \n",
    "# dmx.set_channel(2, 255)  #\n",
    "# dmx.set_channel(3, 63)  #\n",
    "# dmx.set_channel(4, 0)  #\n",
    "\n",
    "\n",
    "dmx.set_channel(1, 0)  # fog YES\n",
    "dmx.set_channel(2, 255)  #RED\n",
    "dmx.set_channel(3, 255)  #GREEN\n",
    "dmx.set_channel(4, 255) #BLUE\n",
    "dmx.set_channel(5, 0)  # Strobe\n",
    "dmx.set_channel(6, 0) # COLOR CHANGE?\n",
    "dmx.set_channel(7, 200)  # sound control YES\n",
    "dmx.submit()  # Sends the update to the controller"
   ]
  },
  {
   "cell_type": "code",
   "execution_count": null,
   "id": "cec8908b",
   "metadata": {
    "scrolled": true
   },
   "outputs": [],
   "source": []
  },
  {
   "cell_type": "code",
   "execution_count": null,
   "id": "16da5773",
   "metadata": {
    "scrolled": true
   },
   "outputs": [],
   "source": []
  },
  {
   "cell_type": "code",
   "execution_count": null,
   "id": "5ed8208f",
   "metadata": {
    "scrolled": true
   },
   "outputs": [],
   "source": [
    "dmx.close()"
   ]
  },
  {
   "cell_type": "code",
   "execution_count": null,
   "id": "dc47bd0e",
   "metadata": {
    "scrolled": true
   },
   "outputs": [],
   "source": []
  },
  {
   "cell_type": "code",
   "execution_count": null,
   "id": "8c55412b",
   "metadata": {
    "scrolled": true
   },
   "outputs": [],
   "source": []
  }
 ],
 "metadata": {
  "kernelspec": {
   "display_name": "Python 3 (ipykernel)",
   "language": "python",
   "name": "python3"
  },
  "language_info": {
   "codemirror_mode": {
    "name": "ipython",
    "version": 3
   },
   "file_extension": ".py",
   "mimetype": "text/x-python",
   "name": "python",
   "nbconvert_exporter": "python",
   "pygments_lexer": "ipython3",
   "version": "3.11.3"
  }
 },
 "nbformat": 4,
 "nbformat_minor": 5
}
