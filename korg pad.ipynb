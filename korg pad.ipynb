{
 "cells": [
  {
   "cell_type": "code",
   "execution_count": null,
   "id": "a7362055",
   "metadata": {},
   "outputs": [],
   "source": [
    "!pip uninstall pygame"
   ]
  },
  {
   "cell_type": "code",
   "execution_count": null,
   "id": "9b8e8dcb",
   "metadata": {},
   "outputs": [],
   "source": [
    "!pip uninstall mido"
   ]
  },
  {
   "cell_type": "code",
   "execution_count": null,
   "id": "7c8cf0df",
   "metadata": {},
   "outputs": [],
   "source": [
    "!pip install pygame"
   ]
  },
  {
   "cell_type": "code",
   "execution_count": null,
   "id": "a8abde27",
   "metadata": {},
   "outputs": [],
   "source": [
    "!pip install mido"
   ]
  },
  {
   "cell_type": "code",
   "execution_count": 1,
   "id": "0032b381",
   "metadata": {},
   "outputs": [
    {
     "name": "stdout",
     "output_type": "stream",
     "text": [
      "pygame 2.5.2 (SDL 2.28.3, Python 3.10.8)\n",
      "Hello from the pygame community. https://www.pygame.org/contribute.html\n"
     ]
    }
   ],
   "source": [
    "import pygame.midi"
   ]
  },
  {
   "cell_type": "code",
   "execution_count": 5,
   "id": "c4884bc7",
   "metadata": {},
   "outputs": [],
   "source": [
    "pygame.midi.init()"
   ]
  },
  {
   "cell_type": "code",
   "execution_count": 3,
   "id": "58f2664b",
   "metadata": {},
   "outputs": [
    {
     "ename": "AttributeError",
     "evalue": "'bool' object has no attribute 'close'",
     "output_type": "error",
     "traceback": [
      "\u001b[1;31m---------------------------------------------------------------------------\u001b[0m",
      "\u001b[1;31mAttributeError\u001b[0m                            Traceback (most recent call last)",
      "Cell \u001b[1;32mIn[3], line 1\u001b[0m\n\u001b[1;32m----> 1\u001b[0m \u001b[43mpyg\u001b[49m\u001b[38;5;241;43m.\u001b[39;49m\u001b[43mclose\u001b[49m()\n",
      "\u001b[1;31mAttributeError\u001b[0m: 'bool' object has no attribute 'close'"
     ]
    }
   ],
   "source": [
    "pyg.close()"
   ]
  },
  {
   "cell_type": "code",
   "execution_count": 6,
   "id": "f1ac9464",
   "metadata": {},
   "outputs": [
    {
     "data": {
      "text/plain": [
       "1"
      ]
     },
     "execution_count": 6,
     "metadata": {},
     "output_type": "execute_result"
    }
   ],
   "source": [
    "pygame.midi.get_default_input_id()"
   ]
  },
  {
   "cell_type": "code",
   "execution_count": null,
   "id": "3308d63b",
   "metadata": {},
   "outputs": [],
   "source": [
    "pygame.midi.get_count()"
   ]
  },
  {
   "cell_type": "code",
   "execution_count": 7,
   "id": "376596d2",
   "metadata": {},
   "outputs": [
    {
     "data": {
      "text/plain": [
       "(b'MMSystem', b'nanoPAD2', 1, 0, 0)"
      ]
     },
     "execution_count": 7,
     "metadata": {},
     "output_type": "execute_result"
    }
   ],
   "source": [
    "pygame.midi.get_device_info(1)"
   ]
  },
  {
   "cell_type": "code",
   "execution_count": null,
   "id": "b075c42b",
   "metadata": {},
   "outputs": [],
   "source": [
    "pygame.midi.poll()"
   ]
  },
  {
   "cell_type": "code",
   "execution_count": null,
   "id": "2472e093",
   "metadata": {},
   "outputs": [],
   "source": []
  },
  {
   "cell_type": "code",
   "execution_count": null,
   "id": "89c4dbc8",
   "metadata": {},
   "outputs": [],
   "source": [
    "korg = pygame.midi.Input(1)"
   ]
  },
  {
   "cell_type": "code",
   "execution_count": null,
   "id": "b0e9a63a",
   "metadata": {},
   "outputs": [],
   "source": [
    "korg.poll()"
   ]
  },
  {
   "cell_type": "code",
   "execution_count": null,
   "id": "851efaf9",
   "metadata": {},
   "outputs": [],
   "source": [
    "korg.read(3)"
   ]
  },
  {
   "cell_type": "code",
   "execution_count": null,
   "id": "ebc43385",
   "metadata": {},
   "outputs": [],
   "source": []
  },
  {
   "cell_type": "code",
   "execution_count": null,
   "id": "9e4de353",
   "metadata": {},
   "outputs": [],
   "source": []
  },
  {
   "cell_type": "code",
   "execution_count": null,
   "id": "ec8c0359",
   "metadata": {},
   "outputs": [],
   "source": []
  },
  {
   "cell_type": "code",
   "execution_count": null,
   "id": "862ca29b",
   "metadata": {},
   "outputs": [],
   "source": [
    "mido.get_input_names()"
   ]
  },
  {
   "cell_type": "code",
   "execution_count": null,
   "id": "240eb932",
   "metadata": {},
   "outputs": [],
   "source": [
    "import mido\n",
    "\n",
    "mido.set_backend('mido.backends.pygame')\n",
    "names = mido.get_input_names()\n",
    "print(names[0])\n",
    "\n",
    "with mido.open_input(names[0]) as inport:\n",
    "    for msg in inport:\n",
    "        print(msg)\n",
    "        "
   ]
  },
  {
   "cell_type": "code",
   "execution_count": null,
   "id": "103dab2e",
   "metadata": {},
   "outputs": [],
   "source": []
  }
 ],
 "metadata": {
  "kernelspec": {
   "display_name": "Python 3 (ipykernel)",
   "language": "python",
   "name": "python3"
  },
  "language_info": {
   "codemirror_mode": {
    "name": "ipython",
    "version": 3
   },
   "file_extension": ".py",
   "mimetype": "text/x-python",
   "name": "python",
   "nbconvert_exporter": "python",
   "pygments_lexer": "ipython3",
   "version": "3.10.8"
  }
 },
 "nbformat": 4,
 "nbformat_minor": 5
}
